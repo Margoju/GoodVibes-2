{
 "cells": [
  {
   "cell_type": "code",
   "execution_count": 1,
   "metadata": {},
   "outputs": [],
   "source": [
    "import os, glob, time\n",
    "import pandas as pd\n",
    "import numpy as np\n",
    "from tqdm import tqdm"
   ]
  },
  {
   "cell_type": "code",
   "execution_count": 2,
   "metadata": {},
   "outputs": [],
   "source": [
    "# here are the GoodVibes imports! \n",
    "import goodvibes.GoodVibes as gv\n",
    "import goodvibes.thermo as thermo\n",
    "\n",
    "# The following lines are only necessary if you want to select non-default options\n",
    "gvibes = gv.GV_options()\n",
    "gvibes.parse_args()\n",
    "options, args = gvibes.options, gvibes.args"
   ]
  },
  {
   "cell_type": "code",
   "execution_count": 3,
   "metadata": {},
   "outputs": [],
   "source": [
    "# directory containing some output files\n",
    "fdir = 'goodvibes/examples/'"
   ]
  },
  {
   "cell_type": "markdown",
   "metadata": {},
   "source": [
    "### 01: Grimme-type quasi-harmonic correction with a (Grimme type) cut-off of 150 cm-1"
   ]
  },
  {
   "cell_type": "code",
   "execution_count": 4,
   "metadata": {},
   "outputs": [],
   "source": [
    "files = ['methylaniline.out', 'benzene.out']\n",
    "\n",
    "# Change low frequency cutoff from 100 to 150 cm-1 \n",
    "options.S_freq_cutoff = 150\n",
    "\n",
    "# Carry out the thermochemical analysis\n",
    "bbe_vals = [thermo.calc_bbe(fdir+file, sp_file=None) for file in files]"
   ]
  },
  {
   "cell_type": "code",
   "execution_count": 5,
   "metadata": {},
   "outputs": [
    {
     "data": {
      "text/html": [
       "<div>\n",
       "<style scoped>\n",
       "    .dataframe tbody tr th:only-of-type {\n",
       "        vertical-align: middle;\n",
       "    }\n",
       "\n",
       "    .dataframe tbody tr th {\n",
       "        vertical-align: top;\n",
       "    }\n",
       "\n",
       "    .dataframe thead th {\n",
       "        text-align: right;\n",
       "    }\n",
       "</style>\n",
       "<table border=\"1\" class=\"dataframe\">\n",
       "  <thead>\n",
       "    <tr style=\"text-align: right;\">\n",
       "      <th></th>\n",
       "      <th>Structure</th>\n",
       "      <th>scf_energy</th>\n",
       "      <th>zpe</th>\n",
       "      <th>enthalpy</th>\n",
       "      <th>entropy</th>\n",
       "      <th>qh_entropy</th>\n",
       "      <th>gibbs_free_energy</th>\n",
       "      <th>qh_gibbs_free_energy</th>\n",
       "    </tr>\n",
       "  </thead>\n",
       "  <tbody>\n",
       "    <tr>\n",
       "      <th>0</th>\n",
       "      <td>methylaniline.out</td>\n",
       "      <td>-326.664901</td>\n",
       "      <td>0.142118</td>\n",
       "      <td>-326.514489</td>\n",
       "      <td>0.000133</td>\n",
       "      <td>0.000133</td>\n",
       "      <td>-326.554157</td>\n",
       "      <td>-326.554024</td>\n",
       "    </tr>\n",
       "    <tr>\n",
       "      <th>1</th>\n",
       "      <td>benzene.out</td>\n",
       "      <td>-232.227201</td>\n",
       "      <td>0.101377</td>\n",
       "      <td>-232.120521</td>\n",
       "      <td>0.000110</td>\n",
       "      <td>0.000110</td>\n",
       "      <td>-232.153263</td>\n",
       "      <td>-232.153265</td>\n",
       "    </tr>\n",
       "  </tbody>\n",
       "</table>\n",
       "</div>"
      ],
      "text/plain": [
       "           Structure  scf_energy       zpe    enthalpy   entropy  qh_entropy  \\\n",
       "0  methylaniline.out -326.664901  0.142118 -326.514489  0.000133    0.000133   \n",
       "1        benzene.out -232.227201  0.101377 -232.120521  0.000110    0.000110   \n",
       "\n",
       "   gibbs_free_energy  qh_gibbs_free_energy  \n",
       "0        -326.554157           -326.554024  \n",
       "1        -232.153263           -232.153265  "
      ]
     },
     "execution_count": 5,
     "metadata": {},
     "output_type": "execute_result"
    }
   ],
   "source": [
    "# Create pandas dataframe with thermochemical values\n",
    "vals = ['scf_energy', 'zpe', 'enthalpy', 'entropy', 'qh_entropy', 'gibbs_free_energy', 'qh_gibbs_free_energy']\n",
    "df = pd.DataFrame([[getattr(bbe,k) for k in vals] for bbe in bbe_vals], columns = vals)\n",
    "df.insert(loc=0, column='Structure', value=[name for name in files])\n",
    "df"
   ]
  },
  {
   "cell_type": "markdown",
   "metadata": {},
   "source": [
    "### 02: Quasi-harmonic thermochemistry with a larger basis set single point energy correction"
   ]
  },
  {
   "cell_type": "code",
   "execution_count": 6,
   "metadata": {},
   "outputs": [],
   "source": [
    "# Using an internally linked job\n",
    "file = fdir+'ethane_spc.out'\n",
    "options.S_freq_cutoff = 100 # reset\n",
    "options.spc = 'link' # lets consider an internally-linked job where a single point energy follows a frequency calc."
   ]
  },
  {
   "cell_type": "code",
   "execution_count": 7,
   "metadata": {},
   "outputs": [
    {
     "name": "stdout",
     "output_type": "stream",
     "text": [
      "\n",
      "\n",
      "o  Found vibrational scaling factor of 0.977 for B3LYP/6-31G(d) level of theory\n",
      "   Alecu, I. M.; Zheng, J.; Zhao, Y.; Truhlar, D. G. J. Chem. Theory Comput. 2010, 6, 2872-2887."
     ]
    }
   ],
   "source": [
    "# Carry out the thermochemical analysis - auto-detect the vibrational scaling factor\n",
    "import goodvibes.io as io\n",
    "log = io.Logger(\"Goodvibes\")\n",
    "level_of_theory = gv.filter_output_files([file], log, options.spc)[1]\n",
    "options.freq_scale_factor, options.mm_freq_scale_factor = gv.get_vib_scale_factor([file], [level_of_theory[0]], log)\n",
    "\n",
    "# Carry out the thermochemical analysis\n",
    "bbe_val = thermo.calc_bbe(file, spc=options.spc, freq_scale_factor=options.freq_scale_factor)"
   ]
  },
  {
   "cell_type": "code",
   "execution_count": 8,
   "metadata": {},
   "outputs": [
    {
     "data": {
      "text/html": [
       "<div>\n",
       "<style scoped>\n",
       "    .dataframe tbody tr th:only-of-type {\n",
       "        vertical-align: middle;\n",
       "    }\n",
       "\n",
       "    .dataframe tbody tr th {\n",
       "        vertical-align: top;\n",
       "    }\n",
       "\n",
       "    .dataframe thead th {\n",
       "        text-align: right;\n",
       "    }\n",
       "</style>\n",
       "<table border=\"1\" class=\"dataframe\">\n",
       "  <thead>\n",
       "    <tr style=\"text-align: right;\">\n",
       "      <th></th>\n",
       "      <th>Structure</th>\n",
       "      <th>sp_energy</th>\n",
       "      <th>scf_energy</th>\n",
       "      <th>enthalpy</th>\n",
       "      <th>qh_gibbs_free_energy</th>\n",
       "    </tr>\n",
       "  </thead>\n",
       "  <tbody>\n",
       "    <tr>\n",
       "      <th>0</th>\n",
       "      <td>goodvibes/examples/ethane_spc.out</td>\n",
       "      <td>-79.858399</td>\n",
       "      <td>-79.830421</td>\n",
       "      <td>-79.780448</td>\n",
       "      <td>-79.808019</td>\n",
       "    </tr>\n",
       "  </tbody>\n",
       "</table>\n",
       "</div>"
      ],
      "text/plain": [
       "                           Structure  sp_energy  scf_energy   enthalpy  \\\n",
       "0  goodvibes/examples/ethane_spc.out -79.858399  -79.830421 -79.780448   \n",
       "\n",
       "   qh_gibbs_free_energy  \n",
       "0            -79.808019  "
      ]
     },
     "execution_count": 8,
     "metadata": {},
     "output_type": "execute_result"
    }
   ],
   "source": [
    "# Create dataframe with thermochemical values\n",
    "vals = ['sp_energy', 'scf_energy', 'enthalpy', 'qh_gibbs_free_energy']\n",
    "df = pd.DataFrame([[getattr(bbe_val,k) for k in vals]], columns = vals)\n",
    "df.insert(loc=0, column='Structure', value=file)\n",
    "df"
   ]
  },
  {
   "cell_type": "code",
   "execution_count": 9,
   "metadata": {},
   "outputs": [],
   "source": [
    "# now lets consider the case where the single point energy calculation is in a separate file\n",
    "file = fdir+'ethane.out'\n",
    "sp_file = fdir+'ethane_TZ.out'\n",
    "\n",
    "# Carry out the thermochemical analysis\n",
    "bbe_val = thermo.calc_bbe(file, sp_file, spc=True, freq_scale_factor=options.freq_scale_factor)"
   ]
  },
  {
   "cell_type": "code",
   "execution_count": 10,
   "metadata": {},
   "outputs": [
    {
     "data": {
      "text/html": [
       "<div>\n",
       "<style scoped>\n",
       "    .dataframe tbody tr th:only-of-type {\n",
       "        vertical-align: middle;\n",
       "    }\n",
       "\n",
       "    .dataframe tbody tr th {\n",
       "        vertical-align: top;\n",
       "    }\n",
       "\n",
       "    .dataframe thead th {\n",
       "        text-align: right;\n",
       "    }\n",
       "</style>\n",
       "<table border=\"1\" class=\"dataframe\">\n",
       "  <thead>\n",
       "    <tr style=\"text-align: right;\">\n",
       "      <th></th>\n",
       "      <th>Structure</th>\n",
       "      <th>sp_energy</th>\n",
       "      <th>scf_energy</th>\n",
       "      <th>enthalpy</th>\n",
       "      <th>qh_gibbs_free_energy</th>\n",
       "    </tr>\n",
       "  </thead>\n",
       "  <tbody>\n",
       "    <tr>\n",
       "      <th>0</th>\n",
       "      <td>goodvibes/examples/ethane.out</td>\n",
       "      <td>-79.858399</td>\n",
       "      <td>-79.830421</td>\n",
       "      <td>-79.780448</td>\n",
       "      <td>-79.808019</td>\n",
       "    </tr>\n",
       "  </tbody>\n",
       "</table>\n",
       "</div>"
      ],
      "text/plain": [
       "                       Structure  sp_energy  scf_energy   enthalpy  \\\n",
       "0  goodvibes/examples/ethane.out -79.858399  -79.830421 -79.780448   \n",
       "\n",
       "   qh_gibbs_free_energy  \n",
       "0            -79.808019  "
      ]
     },
     "execution_count": 10,
     "metadata": {},
     "output_type": "execute_result"
    }
   ],
   "source": [
    "# Create dataframe with thermochemical values\n",
    "vals = ['sp_energy', 'scf_energy', 'enthalpy', 'qh_gibbs_free_energy']\n",
    "df = pd.DataFrame([[getattr(bbe_val,k) for k in vals]], columns = vals)\n",
    "df.insert(loc=0, column='Structure', value=file)\n",
    "df"
   ]
  },
  {
   "cell_type": "markdown",
   "metadata": {},
   "source": [
    "### 03: Changing the temperature (from standard 298.15 K to 1000 K) and concentration (from standard state in gas phase, 1 atm, to standard state in solution, 1 mol/l)"
   ]
  },
  {
   "cell_type": "code",
   "execution_count": 53,
   "metadata": {},
   "outputs": [],
   "source": [
    "gvibes = gv.GV_options()\n",
    "gvibes.parse_args()\n",
    "options, args = gvibes.options, gvibes.args # reset to default values \n",
    "\n",
    "options.conc = 1\n",
    "options.temperature = 1000\n",
    "options.freq_scale_factor = 0.95 # for example"
   ]
  },
  {
   "cell_type": "code",
   "execution_count": 54,
   "metadata": {},
   "outputs": [
    {
     "data": {
      "text/html": [
       "<div>\n",
       "<style scoped>\n",
       "    .dataframe tbody tr th:only-of-type {\n",
       "        vertical-align: middle;\n",
       "    }\n",
       "\n",
       "    .dataframe tbody tr th {\n",
       "        vertical-align: top;\n",
       "    }\n",
       "\n",
       "    .dataframe thead th {\n",
       "        text-align: right;\n",
       "    }\n",
       "</style>\n",
       "<table border=\"1\" class=\"dataframe\">\n",
       "  <thead>\n",
       "    <tr style=\"text-align: right;\">\n",
       "      <th></th>\n",
       "      <th>Structure</th>\n",
       "      <th>scf_energy</th>\n",
       "      <th>enthalpy</th>\n",
       "      <th>gibbs_free_energy</th>\n",
       "      <th>qh_gibbs_free_energy</th>\n",
       "    </tr>\n",
       "  </thead>\n",
       "  <tbody>\n",
       "    <tr>\n",
       "      <th>0</th>\n",
       "      <td>goodvibes/examples/methylaniline.out</td>\n",
       "      <td>-326.664901</td>\n",
       "      <td>-326.457128</td>\n",
       "      <td>-326.680648</td>\n",
       "      <td>-326.678943</td>\n",
       "    </tr>\n",
       "  </tbody>\n",
       "</table>\n",
       "</div>"
      ],
      "text/plain": [
       "                              Structure  scf_energy    enthalpy  \\\n",
       "0  goodvibes/examples/methylaniline.out -326.664901 -326.457128   \n",
       "\n",
       "   gibbs_free_energy  qh_gibbs_free_energy  \n",
       "0        -326.680648           -326.678943  "
      ]
     },
     "execution_count": 54,
     "metadata": {},
     "output_type": "execute_result"
    }
   ],
   "source": [
    "# Parse output file for energy, frequency, method, etc.\n",
    "file = fdir+'methylaniline.out'\n",
    "\n",
    "# Carry out the thermochemical analysis and then create dataframe with results\n",
    "bbe_val = thermo.calc_bbe(file, temperature = options.temperature, conc = options.conc, freq_scale_factor = options.freq_scale_factor)\n",
    "vals = ['scf_energy', 'enthalpy', 'gibbs_free_energy', 'qh_gibbs_free_energy']\n",
    "df = pd.DataFrame([[getattr(bbe_val,k) for k in vals]], columns = vals)\n",
    "df.insert(loc=0, column='Structure', value=file)\n",
    "df"
   ]
  },
  {
   "cell_type": "markdown",
   "metadata": {},
   "source": [
    "### 05: Writing Cartesian coordinates to file"
   ]
  },
  {
   "cell_type": "code",
   "execution_count": 57,
   "metadata": {},
   "outputs": [
    {
     "data": {
      "text/plain": [
       "<goodvibes.io.write_structures at 0x7f9a52ee9e10>"
      ]
     },
     "execution_count": 57,
     "metadata": {},
     "output_type": "execute_result"
    }
   ],
   "source": [
    "gvibes = gv.GV_options()\n",
    "gvibes.parse_args()\n",
    "options, args = gvibes.options, gvibes.args # reset to default values\n",
    "\n",
    "files = set(glob.glob(fdir+\"HCN*.out\")) # wildcard for file names\n",
    "io.write_structures(\"HCN_output\", files, xyz = True)"
   ]
  },
  {
   "cell_type": "markdown",
   "metadata": {},
   "source": [
    "### 06: Analyzing multiple files at once"
   ]
  },
  {
   "cell_type": "code",
   "execution_count": 58,
   "metadata": {},
   "outputs": [],
   "source": [
    "gvibes = gv.GV_options()\n",
    "gvibes.parse_args()\n",
    "options, args = gvibes.options, gvibes.args # reset to default values \n",
    "\n",
    "files = set(glob.glob(fdir+\"*.out\")) - set(glob.glob(fdir+\"*NWChem.out\")) # \n",
    "files_sorted = sorted (files, key = lambda x: ( isinstance (x, str ), x)) #alphanumeric sorting"
   ]
  },
  {
   "cell_type": "code",
   "execution_count": 15,
   "metadata": {},
   "outputs": [],
   "source": [
    "# Carry out the thermochemical analysis\n",
    "# the if statement here filters out structures for which thermochemical data is not available\n",
    "bbe_vals = [thermo.calc_bbe(file, sp_file=None) for file in files_sorted if hasattr(thermo.calc_bbe(file, sp_file=None), 'zpe')]\n",
    "names = [file.split(fdir)[1] for file in files_sorted if hasattr(thermo.calc_bbe(file, sp_file=None), 'zpe')]\n"
   ]
  },
  {
   "cell_type": "code",
   "execution_count": 16,
   "metadata": {},
   "outputs": [
    {
     "data": {
      "text/html": [
       "<div>\n",
       "<style scoped>\n",
       "    .dataframe tbody tr th:only-of-type {\n",
       "        vertical-align: middle;\n",
       "    }\n",
       "\n",
       "    .dataframe tbody tr th {\n",
       "        vertical-align: top;\n",
       "    }\n",
       "\n",
       "    .dataframe thead th {\n",
       "        text-align: right;\n",
       "    }\n",
       "</style>\n",
       "<table border=\"1\" class=\"dataframe\">\n",
       "  <thead>\n",
       "    <tr style=\"text-align: right;\">\n",
       "      <th></th>\n",
       "      <th>Structure</th>\n",
       "      <th>scf_energy</th>\n",
       "      <th>zpe</th>\n",
       "      <th>enthalpy</th>\n",
       "      <th>entropy</th>\n",
       "      <th>qh_entropy</th>\n",
       "      <th>gibbs_free_energy</th>\n",
       "      <th>qh_gibbs_free_energy</th>\n",
       "    </tr>\n",
       "  </thead>\n",
       "  <tbody>\n",
       "    <tr>\n",
       "      <th>0</th>\n",
       "      <td>Al_298K.out</td>\n",
       "      <td>-242.328708</td>\n",
       "      <td>0.000000</td>\n",
       "      <td>-242.326347</td>\n",
       "      <td>0.000059</td>\n",
       "      <td>0.000059</td>\n",
       "      <td>-242.344018</td>\n",
       "      <td>-242.344018</td>\n",
       "    </tr>\n",
       "    <tr>\n",
       "      <th>1</th>\n",
       "      <td>Al_400K.out</td>\n",
       "      <td>-242.328708</td>\n",
       "      <td>0.000000</td>\n",
       "      <td>-242.326347</td>\n",
       "      <td>0.000059</td>\n",
       "      <td>0.000059</td>\n",
       "      <td>-242.344018</td>\n",
       "      <td>-242.344018</td>\n",
       "    </tr>\n",
       "    <tr>\n",
       "      <th>2</th>\n",
       "      <td>CuCN.out</td>\n",
       "      <td>-289.005463</td>\n",
       "      <td>0.006594</td>\n",
       "      <td>-288.994307</td>\n",
       "      <td>0.000087</td>\n",
       "      <td>0.000087</td>\n",
       "      <td>-289.020260</td>\n",
       "      <td>-289.020264</td>\n",
       "    </tr>\n",
       "    <tr>\n",
       "      <th>3</th>\n",
       "      <td>H2O.out</td>\n",
       "      <td>-76.368128</td>\n",
       "      <td>0.020772</td>\n",
       "      <td>-76.343577</td>\n",
       "      <td>0.000072</td>\n",
       "      <td>0.000072</td>\n",
       "      <td>-76.365035</td>\n",
       "      <td>-76.365035</td>\n",
       "    </tr>\n",
       "    <tr>\n",
       "      <th>4</th>\n",
       "      <td>HCN_singlet.out</td>\n",
       "      <td>-93.358851</td>\n",
       "      <td>0.015978</td>\n",
       "      <td>-93.339373</td>\n",
       "      <td>0.000077</td>\n",
       "      <td>0.000077</td>\n",
       "      <td>-93.362269</td>\n",
       "      <td>-93.362269</td>\n",
       "    </tr>\n",
       "    <tr>\n",
       "      <th>5</th>\n",
       "      <td>HCN_triplet.out</td>\n",
       "      <td>-93.153787</td>\n",
       "      <td>0.012567</td>\n",
       "      <td>-93.137780</td>\n",
       "      <td>0.000081</td>\n",
       "      <td>0.000081</td>\n",
       "      <td>-93.161850</td>\n",
       "      <td>-93.161850</td>\n",
       "    </tr>\n",
       "    <tr>\n",
       "      <th>6</th>\n",
       "      <td>allene.out</td>\n",
       "      <td>-116.569605</td>\n",
       "      <td>0.053913</td>\n",
       "      <td>-116.510916</td>\n",
       "      <td>0.000093</td>\n",
       "      <td>0.000093</td>\n",
       "      <td>-116.538534</td>\n",
       "      <td>-116.538537</td>\n",
       "    </tr>\n",
       "    <tr>\n",
       "      <th>7</th>\n",
       "      <td>benzene.out</td>\n",
       "      <td>-232.227201</td>\n",
       "      <td>0.101377</td>\n",
       "      <td>-232.120521</td>\n",
       "      <td>0.000110</td>\n",
       "      <td>0.000110</td>\n",
       "      <td>-232.153263</td>\n",
       "      <td>-232.153265</td>\n",
       "    </tr>\n",
       "    <tr>\n",
       "      <th>8</th>\n",
       "      <td>ethane.out</td>\n",
       "      <td>-79.830421</td>\n",
       "      <td>0.075238</td>\n",
       "      <td>-79.750770</td>\n",
       "      <td>0.000092</td>\n",
       "      <td>0.000092</td>\n",
       "      <td>-79.778293</td>\n",
       "      <td>-79.778295</td>\n",
       "    </tr>\n",
       "    <tr>\n",
       "      <th>9</th>\n",
       "      <td>ethane_spc.out</td>\n",
       "      <td>-79.830421</td>\n",
       "      <td>0.075238</td>\n",
       "      <td>-79.750770</td>\n",
       "      <td>0.000092</td>\n",
       "      <td>0.000092</td>\n",
       "      <td>-79.778293</td>\n",
       "      <td>-79.778295</td>\n",
       "    </tr>\n",
       "    <tr>\n",
       "      <th>10</th>\n",
       "      <td>isobutane.out</td>\n",
       "      <td>-158.458811</td>\n",
       "      <td>0.132380</td>\n",
       "      <td>-158.319804</td>\n",
       "      <td>0.000115</td>\n",
       "      <td>0.000115</td>\n",
       "      <td>-158.354046</td>\n",
       "      <td>-158.354056</td>\n",
       "    </tr>\n",
       "    <tr>\n",
       "      <th>11</th>\n",
       "      <td>methylaniline.out</td>\n",
       "      <td>-326.664901</td>\n",
       "      <td>0.142118</td>\n",
       "      <td>-326.514489</td>\n",
       "      <td>0.000133</td>\n",
       "      <td>0.000133</td>\n",
       "      <td>-326.554157</td>\n",
       "      <td>-326.554024</td>\n",
       "    </tr>\n",
       "    <tr>\n",
       "      <th>12</th>\n",
       "      <td>neopentane.out</td>\n",
       "      <td>-197.772980</td>\n",
       "      <td>0.160311</td>\n",
       "      <td>-197.604824</td>\n",
       "      <td>0.000124</td>\n",
       "      <td>0.000124</td>\n",
       "      <td>-197.641776</td>\n",
       "      <td>-197.641791</td>\n",
       "    </tr>\n",
       "  </tbody>\n",
       "</table>\n",
       "</div>"
      ],
      "text/plain": [
       "            Structure  scf_energy       zpe    enthalpy   entropy  qh_entropy  \\\n",
       "0         Al_298K.out -242.328708  0.000000 -242.326347  0.000059    0.000059   \n",
       "1         Al_400K.out -242.328708  0.000000 -242.326347  0.000059    0.000059   \n",
       "2            CuCN.out -289.005463  0.006594 -288.994307  0.000087    0.000087   \n",
       "3             H2O.out  -76.368128  0.020772  -76.343577  0.000072    0.000072   \n",
       "4     HCN_singlet.out  -93.358851  0.015978  -93.339373  0.000077    0.000077   \n",
       "5     HCN_triplet.out  -93.153787  0.012567  -93.137780  0.000081    0.000081   \n",
       "6          allene.out -116.569605  0.053913 -116.510916  0.000093    0.000093   \n",
       "7         benzene.out -232.227201  0.101377 -232.120521  0.000110    0.000110   \n",
       "8          ethane.out  -79.830421  0.075238  -79.750770  0.000092    0.000092   \n",
       "9      ethane_spc.out  -79.830421  0.075238  -79.750770  0.000092    0.000092   \n",
       "10      isobutane.out -158.458811  0.132380 -158.319804  0.000115    0.000115   \n",
       "11  methylaniline.out -326.664901  0.142118 -326.514489  0.000133    0.000133   \n",
       "12     neopentane.out -197.772980  0.160311 -197.604824  0.000124    0.000124   \n",
       "\n",
       "    gibbs_free_energy  qh_gibbs_free_energy  \n",
       "0         -242.344018           -242.344018  \n",
       "1         -242.344018           -242.344018  \n",
       "2         -289.020260           -289.020264  \n",
       "3          -76.365035            -76.365035  \n",
       "4          -93.362269            -93.362269  \n",
       "5          -93.161850            -93.161850  \n",
       "6         -116.538534           -116.538537  \n",
       "7         -232.153263           -232.153265  \n",
       "8          -79.778293            -79.778295  \n",
       "9          -79.778293            -79.778295  \n",
       "10        -158.354046           -158.354056  \n",
       "11        -326.554157           -326.554024  \n",
       "12        -197.641776           -197.641791  "
      ]
     },
     "execution_count": 16,
     "metadata": {},
     "output_type": "execute_result"
    }
   ],
   "source": [
    "# Create dataframe with thermochemical values\n",
    "vals = ['scf_energy', 'zpe', 'enthalpy', 'entropy', 'qh_entropy', 'gibbs_free_energy', 'qh_gibbs_free_energy']\n",
    "bbe_df = pd.DataFrame([[getattr(i,k) for k in vals] for i in bbe_vals], columns = vals)\n",
    "bbe_df.insert(loc=0, column='Structure', value=names)\n",
    "bbe_df"
   ]
  },
  {
   "cell_type": "code",
   "execution_count": 17,
   "metadata": {},
   "outputs": [
    {
     "name": "stdout",
     "output_type": "stream",
     "text": [
      "   TOTAL CPU      0 days  2 hrs 37 mins  0 secs\n"
     ]
    }
   ],
   "source": [
    "# Total CPU time\n",
    "thermo_data = dict(zip(files_sorted, bbe_vals)) \n",
    "cpu = gv.calc_cpu(thermo_data, log)"
   ]
  },
  {
   "cell_type": "markdown",
   "metadata": {},
   "source": [
    "### 07: Entropic Symmetry Correction"
   ]
  },
  {
   "cell_type": "code",
   "execution_count": 18,
   "metadata": {},
   "outputs": [],
   "source": [
    "names = [\"allene.out\", \"benzene.out\", \"ethane.out\", \"isobutane.out\", \"neopentane.out\"]\n",
    "files = [fdir+name for name in names]\n",
    "    \n",
    "bbe_vals = [thermo.calc_bbe(file, sp_file=None, ssymm=True) for file in files]"
   ]
  },
  {
   "cell_type": "code",
   "execution_count": 19,
   "metadata": {},
   "outputs": [
    {
     "data": {
      "text/html": [
       "<div>\n",
       "<style scoped>\n",
       "    .dataframe tbody tr th:only-of-type {\n",
       "        vertical-align: middle;\n",
       "    }\n",
       "\n",
       "    .dataframe tbody tr th {\n",
       "        vertical-align: top;\n",
       "    }\n",
       "\n",
       "    .dataframe thead th {\n",
       "        text-align: right;\n",
       "    }\n",
       "</style>\n",
       "<table border=\"1\" class=\"dataframe\">\n",
       "  <thead>\n",
       "    <tr style=\"text-align: right;\">\n",
       "      <th></th>\n",
       "      <th>Structure</th>\n",
       "      <th>scf_energy</th>\n",
       "      <th>zpe</th>\n",
       "      <th>enthalpy</th>\n",
       "      <th>entropy</th>\n",
       "      <th>qh_entropy</th>\n",
       "      <th>gibbs_free_energy</th>\n",
       "      <th>qh_gibbs_free_energy</th>\n",
       "      <th>point_group</th>\n",
       "    </tr>\n",
       "  </thead>\n",
       "  <tbody>\n",
       "    <tr>\n",
       "      <th>0</th>\n",
       "      <td>allene.out</td>\n",
       "      <td>-116.569605</td>\n",
       "      <td>0.053913</td>\n",
       "      <td>-116.510916</td>\n",
       "      <td>0.000093</td>\n",
       "      <td>0.000093</td>\n",
       "      <td>-116.538534</td>\n",
       "      <td>-116.538537</td>\n",
       "      <td>D2d</td>\n",
       "    </tr>\n",
       "    <tr>\n",
       "      <th>1</th>\n",
       "      <td>benzene.out</td>\n",
       "      <td>-232.227201</td>\n",
       "      <td>0.101377</td>\n",
       "      <td>-232.120521</td>\n",
       "      <td>0.000102</td>\n",
       "      <td>0.000102</td>\n",
       "      <td>-232.150917</td>\n",
       "      <td>-232.150919</td>\n",
       "      <td>D6h</td>\n",
       "    </tr>\n",
       "    <tr>\n",
       "      <th>2</th>\n",
       "      <td>ethane.out</td>\n",
       "      <td>-79.830421</td>\n",
       "      <td>0.075238</td>\n",
       "      <td>-79.750770</td>\n",
       "      <td>0.000087</td>\n",
       "      <td>0.000087</td>\n",
       "      <td>-79.776601</td>\n",
       "      <td>-79.776603</td>\n",
       "      <td>D3d</td>\n",
       "    </tr>\n",
       "    <tr>\n",
       "      <th>3</th>\n",
       "      <td>isobutane.out</td>\n",
       "      <td>-158.458811</td>\n",
       "      <td>0.132380</td>\n",
       "      <td>-158.319804</td>\n",
       "      <td>0.000111</td>\n",
       "      <td>0.000111</td>\n",
       "      <td>-158.353008</td>\n",
       "      <td>-158.353019</td>\n",
       "      <td>C3v</td>\n",
       "    </tr>\n",
       "    <tr>\n",
       "      <th>4</th>\n",
       "      <td>neopentane.out</td>\n",
       "      <td>-197.772980</td>\n",
       "      <td>0.160311</td>\n",
       "      <td>-197.604824</td>\n",
       "      <td>0.000116</td>\n",
       "      <td>0.000116</td>\n",
       "      <td>-197.639430</td>\n",
       "      <td>-197.639444</td>\n",
       "      <td>Td</td>\n",
       "    </tr>\n",
       "  </tbody>\n",
       "</table>\n",
       "</div>"
      ],
      "text/plain": [
       "        Structure  scf_energy       zpe    enthalpy   entropy  qh_entropy  \\\n",
       "0      allene.out -116.569605  0.053913 -116.510916  0.000093    0.000093   \n",
       "1     benzene.out -232.227201  0.101377 -232.120521  0.000102    0.000102   \n",
       "2      ethane.out  -79.830421  0.075238  -79.750770  0.000087    0.000087   \n",
       "3   isobutane.out -158.458811  0.132380 -158.319804  0.000111    0.000111   \n",
       "4  neopentane.out -197.772980  0.160311 -197.604824  0.000116    0.000116   \n",
       "\n",
       "   gibbs_free_energy  qh_gibbs_free_energy point_group  \n",
       "0        -116.538534           -116.538537         D2d  \n",
       "1        -232.150917           -232.150919         D6h  \n",
       "2         -79.776601            -79.776603         D3d  \n",
       "3        -158.353008           -158.353019         C3v  \n",
       "4        -197.639430           -197.639444          Td  "
      ]
     },
     "execution_count": 19,
     "metadata": {},
     "output_type": "execute_result"
    }
   ],
   "source": [
    "# Create dataframe with thermochemical values\n",
    "vals = ['scf_energy', 'zpe', 'enthalpy', 'entropy', 'qh_entropy', 'gibbs_free_energy', 'qh_gibbs_free_energy', 'point_group']\n",
    "bbe_df = pd.DataFrame([[getattr(i,k) for k in vals] for i in bbe_vals], columns = vals)\n",
    "bbe_df.insert(loc=0, column='Structure', value=names)\n",
    "bbe_df"
   ]
  },
  {
   "cell_type": "markdown",
   "metadata": {},
   "source": [
    "### 08: Potential Energy Surface (PES) Generation"
   ]
  },
  {
   "cell_type": "code",
   "execution_count": 20,
   "metadata": {},
   "outputs": [],
   "source": [
    "pesdir = 'goodvibes/examples/reaction_profile/'\n",
    "files = glob.glob(pesdir+\"*.log\")\n",
    "sp_files = glob.glob(pesdir+\"*.out\")"
   ]
  },
  {
   "cell_type": "code",
   "execution_count": 21,
   "metadata": {},
   "outputs": [
    {
     "data": {
      "text/html": [
       "<div>\n",
       "<style scoped>\n",
       "    .dataframe tbody tr th:only-of-type {\n",
       "        vertical-align: middle;\n",
       "    }\n",
       "\n",
       "    .dataframe tbody tr th {\n",
       "        vertical-align: top;\n",
       "    }\n",
       "\n",
       "    .dataframe thead th {\n",
       "        text-align: right;\n",
       "    }\n",
       "</style>\n",
       "<table border=\"1\" class=\"dataframe\">\n",
       "  <thead>\n",
       "    <tr style=\"text-align: right;\">\n",
       "      <th></th>\n",
       "      <th>Structure</th>\n",
       "      <th>sp_energy</th>\n",
       "      <th>scf_energy</th>\n",
       "      <th>zpe</th>\n",
       "      <th>enthalpy</th>\n",
       "      <th>qh_gibbs_free_energy</th>\n",
       "    </tr>\n",
       "  </thead>\n",
       "  <tbody>\n",
       "    <tr>\n",
       "      <th>0</th>\n",
       "      <td>Int_I_Py_d.log</td>\n",
       "      <td>-1415.698106</td>\n",
       "      <td>-1415.698106</td>\n",
       "      <td>0.418680</td>\n",
       "      <td>-1415.254939</td>\n",
       "      <td>-1415.328850</td>\n",
       "    </tr>\n",
       "    <tr>\n",
       "      <th>1</th>\n",
       "      <td>Int_I_Py_e.log</td>\n",
       "      <td>-1415.697383</td>\n",
       "      <td>-1415.697383</td>\n",
       "      <td>0.418818</td>\n",
       "      <td>-1415.254065</td>\n",
       "      <td>-1415.328111</td>\n",
       "    </tr>\n",
       "    <tr>\n",
       "      <th>2</th>\n",
       "      <td>Int_I_Py_f.log</td>\n",
       "      <td>-1415.706212</td>\n",
       "      <td>-1415.706212</td>\n",
       "      <td>0.419258</td>\n",
       "      <td>-1415.262679</td>\n",
       "      <td>-1415.335952</td>\n",
       "    </tr>\n",
       "    <tr>\n",
       "      <th>3</th>\n",
       "      <td>Int_I_Py_b.log</td>\n",
       "      <td>-1415.711031</td>\n",
       "      <td>-1415.711031</td>\n",
       "      <td>0.419045</td>\n",
       "      <td>-1415.267713</td>\n",
       "      <td>-1415.340929</td>\n",
       "    </tr>\n",
       "    <tr>\n",
       "      <th>4</th>\n",
       "      <td>Int_I_Py_c.log</td>\n",
       "      <td>-1415.713255</td>\n",
       "      <td>-1415.713255</td>\n",
       "      <td>0.418916</td>\n",
       "      <td>-1415.269974</td>\n",
       "      <td>-1415.343483</td>\n",
       "    </tr>\n",
       "  </tbody>\n",
       "</table>\n",
       "</div>"
      ],
      "text/plain": [
       "        Structure    sp_energy   scf_energy       zpe     enthalpy  \\\n",
       "0  Int_I_Py_d.log -1415.698106 -1415.698106  0.418680 -1415.254939   \n",
       "1  Int_I_Py_e.log -1415.697383 -1415.697383  0.418818 -1415.254065   \n",
       "2  Int_I_Py_f.log -1415.706212 -1415.706212  0.419258 -1415.262679   \n",
       "3  Int_I_Py_b.log -1415.711031 -1415.711031  0.419045 -1415.267713   \n",
       "4  Int_I_Py_c.log -1415.713255 -1415.713255  0.418916 -1415.269974   \n",
       "\n",
       "   qh_gibbs_free_energy  \n",
       "0          -1415.328850  \n",
       "1          -1415.328111  \n",
       "2          -1415.335952  \n",
       "3          -1415.340929  \n",
       "4          -1415.343483  "
      ]
     },
     "execution_count": 21,
     "metadata": {},
     "output_type": "execute_result"
    }
   ],
   "source": [
    "# thermochemical calculation\n",
    "bbe_vals = [thermo.calc_bbe(file, sp_file=sp, spc=True) for file,sp in zip(files,sp_files)]\n",
    "\n",
    "# Show a table\n",
    "vals = ['sp_energy', 'scf_energy', 'zpe', 'enthalpy', 'qh_gibbs_free_energy']\n",
    "bbe_df = pd.DataFrame([[getattr(i,k) for k in vals] for i in bbe_vals], columns = vals)\n",
    "bbe_df.insert(loc=0, column='Structure', value=[file.split(pesdir)[1] for file in files])\n",
    "bbe_df.head()"
   ]
  },
  {
   "cell_type": "code",
   "execution_count": 22,
   "metadata": {},
   "outputs": [
    {
     "name": "stdout",
     "output_type": "stream",
     "text": [
      "\n",
      "   RXN: Ph (kcal/mol)                             DE_SPC            DE       DZPE        DH_SPC       T.DS    T.qh-DS      DG(T)_SPC   qh-DG(T)_SPC\n",
      "   *******************************************************************************************************************************************************\n",
      "o  Ph-Int1                                          0.00          0.00       0.00          0.00       0.00       0.00          0.00          0.00\n",
      "o  Ph-TS1                                          23.93         23.93      -1.60         22.34       0.68       0.50         22.14         22.19\n",
      "o  Ph-Int2                                        -14.22        -14.22      -0.57        -14.54       3.69       2.02        -15.64        -15.14\n",
      "o  Ph-TS2                                         -12.25        -12.25      -1.35        -13.55       2.75       1.13        -14.37        -13.89\n",
      "o  Ph-Int3                                        -37.69        -37.69      -0.57        -37.68       9.78       5.92        -40.60        -39.44\n",
      "   *******************************************************************************************************************************************************\n",
      "\n",
      "   RXN: Py (kcal/mol)                             DE_SPC            DE       DZPE        DH_SPC       T.DS    T.qh-DS      DG(T)_SPC   qh-DG(T)_SPC\n",
      "   *******************************************************************************************************************************************************\n",
      "o  Py-Int1                                          0.00          0.00       0.00          0.00       0.00       0.00          0.00          0.00\n",
      "o  Py-TS1                                          17.76         17.76      -1.24         16.52       0.16       0.21         16.47         16.46\n",
      "o  Py-Int2                                        -17.39        -17.39      -0.47        -17.80       3.35       1.43        -18.80        -18.23\n",
      "o  Py-TS2                                         -12.54        -12.54      -0.87        -13.46       1.39       0.44        -13.87        -13.59\n",
      "o  Py-Int3                                        -32.83        -32.83      -0.57        -32.82      10.12       6.08        -35.84        -34.63\n",
      "   *******************************************************************************************************************************************************\n"
     ]
    }
   ],
   "source": [
    "# Convert absolute values into a relatve PES \n",
    "options.pes = pesdir+'PhPy.yaml' # external file defining PES\n",
    "options.gconf = False\n",
    "\n",
    "import goodvibes.pes as pes\n",
    "thermo_data = dict(zip(files, bbe_vals))\n",
    "species, table = pes.tabulate(thermo_data, options, log, show=True)"
   ]
  },
  {
   "cell_type": "code",
   "execution_count": 23,
   "metadata": {},
   "outputs": [
    {
     "name": "stdout",
     "output_type": "stream",
     "text": [
      "\n",
      "   Graphing Reaction Profile\n"
     ]
    },
    {
     "data": {
      "image/png": "[encoded data removed]",
      "text/plain": [
       "<Figure size 432x288 with 2 Axes>"
      ]
     },
     "metadata": {
      "needs_background": "light"
     },
     "output_type": "display_data"
    }
   ],
   "source": [
    "# Plot the PES\n",
    "import matplotlib.pyplot as plt\n",
    "graph_data = pes.get_pes(options.pes, thermo_data, log, options.temperature, options.gconf)\n",
    "pes.graph_reaction_profile(graph_data, options, log, plt)"
   ]
  },
  {
   "cell_type": "markdown",
   "metadata": {},
   "source": [
    "### 09: Stereoselectivity and Boltzmann populations"
   ]
  },
  {
   "cell_type": "code",
   "execution_count": 59,
   "metadata": {},
   "outputs": [],
   "source": [
    "gvibes = gv.GV_options()\n",
    "gvibes.parse_args()\n",
    "options, args = gvibes.options, gvibes.args # reset to default values \n",
    "\n",
    "seldir = 'goodvibes/examples/reaction_selectivity/opt/'\n",
    "files = glob.glob(seldir+\"*.log\")\n",
    "files = sorted (files, key = lambda x: ( isinstance (x, str ), x)) #alphanumeric sorting\n",
    "\n",
    "spcdir = 'goodvibes/examples/reaction_selectivity/spc_01/'\n",
    "sp_files = glob.glob(spcdir+\"*.log\")\n",
    "sp_files = sorted (sp_files, key = lambda x: ( isinstance (x, str ), x)) #alphanumeric sorting\n",
    "\n",
    "options.dedup = True\n",
    "options.Boltz = True\n",
    "# Define two groups of files by wildcard matching\n",
    "options.ee = \"*_13_*:*_14_*\""
   ]
  },
  {
   "cell_type": "code",
   "execution_count": 61,
   "metadata": {},
   "outputs": [
    {
     "name": "stdout",
     "output_type": "stream",
     "text": [
      "\n",
      "   Selectivity                                Excess (%)     Ratio (%)         Ratio         Major  DDG kcal/mol\n",
      "   *************************************************************************************************************\n",
      "o                                                  99.21         0:100         1:252            14          3.28\n",
      "   *************************************************************************************************************\n"
     ]
    }
   ],
   "source": [
    "bbe_vals = [thermo.calc_bbe(file, sp_file=sp, spc=True) for file,sp in zip(files,sp_files)]\n",
    "thermo_data = dict(zip(files, bbe_vals))\n",
    "thermo_data = gv.sort_by_stability(thermo_data, options.sort)\n",
    "\n",
    "# obtain Boltzmann factors\n",
    "boltz_facs, weighted_free_energy = gv.get_boltz(thermo_data, options.clustering, [], options.temperature, log)\n",
    "\n",
    "#and selectivity values\n",
    "[a_name, b_name], [a_files, b_files], ee, er, ratio, dd_free_energy, preference = gv.get_selectivity(options.ee, files, boltz_facs, options.temperature, log)"
   ]
  },
  {
   "cell_type": "code",
   "execution_count": 63,
   "metadata": {},
   "outputs": [
    {
     "data": {
      "image/png": "[encoded data removed]",
      "text/plain": [
       "<Figure size 432x288 with 1 Axes>"
      ]
     },
     "metadata": {},
     "output_type": "display_data"
    }
   ],
   "source": [
    "#plot the relative Gibbs energies\n",
    "pes.sel_striplot(a_name, b_name, a_files, b_files, thermo_data, plt)"
   ]
  },
  {
   "cell_type": "code",
   "execution_count": null,
   "metadata": {},
   "outputs": [],
   "source": []
  }
 ],
 "metadata": {
  "kernelspec": {
   "display_name": "Python 3",
   "language": "python",
   "name": "python3"
  },
  "language_info": {
   "codemirror_mode": {
    "name": "ipython",
    "version": 3
   },
   "file_extension": ".py",
   "mimetype": "text/x-python",
   "name": "python",
   "nbconvert_exporter": "python",
   "pygments_lexer": "ipython3",
   "version": "3.7.10"
  }
 },
 "nbformat": 4,
 "nbformat_minor": 4
}
